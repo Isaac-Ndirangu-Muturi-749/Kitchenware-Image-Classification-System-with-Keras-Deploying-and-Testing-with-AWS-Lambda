{
 "cells": [
  {
   "cell_type": "code",
   "execution_count": 1,
   "id": "85306ee0",
   "metadata": {},
   "outputs": [
    {
     "name": "stderr",
     "output_type": "stream",
     "text": [
      "2023-12-15 22:40:41.983906: I tensorflow/core/util/port.cc:113] oneDNN custom operations are on. You may see slightly different numerical results due to floating-point round-off errors from different computation orders. To turn them off, set the environment variable `TF_ENABLE_ONEDNN_OPTS=0`.\n",
      "2023-12-15 22:40:42.092978: I external/local_tsl/tsl/cuda/cudart_stub.cc:31] Could not find cuda drivers on your machine, GPU will not be used.\n",
      "2023-12-15 22:40:42.630428: E external/local_xla/xla/stream_executor/cuda/cuda_dnn.cc:9261] Unable to register cuDNN factory: Attempting to register factory for plugin cuDNN when one has already been registered\n",
      "2023-12-15 22:40:42.630495: E external/local_xla/xla/stream_executor/cuda/cuda_fft.cc:607] Unable to register cuFFT factory: Attempting to register factory for plugin cuFFT when one has already been registered\n",
      "2023-12-15 22:40:42.715737: E external/local_xla/xla/stream_executor/cuda/cuda_blas.cc:1515] Unable to register cuBLAS factory: Attempting to register factory for plugin cuBLAS when one has already been registered\n",
      "2023-12-15 22:40:42.943513: I external/local_tsl/tsl/cuda/cudart_stub.cc:31] Could not find cuda drivers on your machine, GPU will not be used.\n",
      "2023-12-15 22:40:42.947396: I tensorflow/core/platform/cpu_feature_guard.cc:182] This TensorFlow binary is optimized to use available CPU instructions in performance-critical operations.\n",
      "To enable the following instructions: AVX2 AVX512F AVX512_VNNI FMA, in other operations, rebuild TensorFlow with the appropriate compiler flags.\n",
      "2023-12-15 22:40:44.338617: W tensorflow/compiler/tf2tensorrt/utils/py_utils.cc:38] TF-TRT Warning: Could not find TensorRT\n"
     ]
    },
    {
     "name": "stdout",
     "output_type": "stream",
     "text": [
      "INFO:tensorflow:Assets written to: /tmp/tmpu73lrwya/assets\n"
     ]
    },
    {
     "name": "stderr",
     "output_type": "stream",
     "text": [
      "INFO:tensorflow:Assets written to: /tmp/tmpu73lrwya/assets\n",
      "2023-12-15 22:41:00.247652: W tensorflow/compiler/mlir/lite/python/tf_tfl_flatbuffer_helpers.cc:378] Ignored output_format.\n",
      "2023-12-15 22:41:00.247715: W tensorflow/compiler/mlir/lite/python/tf_tfl_flatbuffer_helpers.cc:381] Ignored drop_control_dependency.\n",
      "2023-12-15 22:41:00.248650: I tensorflow/cc/saved_model/reader.cc:83] Reading SavedModel from: /tmp/tmpu73lrwya\n",
      "2023-12-15 22:41:00.260506: I tensorflow/cc/saved_model/reader.cc:51] Reading meta graph with tags { serve }\n",
      "2023-12-15 22:41:00.260573: I tensorflow/cc/saved_model/reader.cc:146] Reading SavedModel debug info (if present) from: /tmp/tmpu73lrwya\n",
      "2023-12-15 22:41:00.287731: I tensorflow/compiler/mlir/mlir_graph_optimization_pass.cc:388] MLIR V1 optimization pass is not enabled\n",
      "2023-12-15 22:41:00.306103: I tensorflow/cc/saved_model/loader.cc:233] Restoring SavedModel bundle.\n",
      "2023-12-15 22:41:00.775259: I tensorflow/cc/saved_model/loader.cc:217] Running initialization op on SavedModel bundle at path: /tmp/tmpu73lrwya\n",
      "2023-12-15 22:41:00.899570: I tensorflow/cc/saved_model/loader.cc:316] SavedModel load for tags { serve }; Status: success: OK. Took 650922 microseconds.\n",
      "2023-12-15 22:41:01.048995: I tensorflow/compiler/mlir/tensorflow/utils/dump_mlir_util.cc:269] disabling MLIR crash reproducer, set env var `MLIR_CRASH_REPRODUCER_DIRECTORY` to enable.\n",
      "Summary on the non-converted ops:\n",
      "---------------------------------\n",
      " * Accepted dialects: tfl, builtin, func\n",
      " * Non-Converted Ops: 129, Total Ops 238, % non-converted = 54.20 %\n",
      " * 129 ARITH ops\n",
      "\n",
      "- arith.constant:  129 occurrences  (f32: 128, i32: 1)\n",
      "\n",
      "\n",
      "\n",
      "  (f32: 12)\n",
      "  (f32: 40)\n",
      "  (f32: 34)\n",
      "  (f32: 4)\n",
      "  (f32: 4)\n",
      "  (f32: 11)\n",
      "  (f32: 1)\n"
     ]
    }
   ],
   "source": [
    "import tensorflow as tf\n",
    "\n",
    "# Load the Keras model\n",
    "model = tf.keras.models.load_model('kitchenware_model.h5')\n",
    "\n",
    "# Convert the model to TFLite format\n",
    "converter = tf.lite.TFLiteConverter.from_keras_model(model)\n",
    "tflite_model = converter.convert()\n",
    "\n",
    "# Save the TFLite model to a file\n",
    "with open('kitchenware_model.tflite', 'wb') as f:\n",
    "    f.write(tflite_model)\n"
   ]
  },
  {
   "cell_type": "code",
   "execution_count": 13,
   "id": "9a51505c",
   "metadata": {
    "scrolled": false
   },
   "outputs": [
    {
     "data": {
      "text/plain": [
       "55.54642105102539"
      ]
     },
     "execution_count": 13,
     "metadata": {},
     "output_type": "execute_result"
    }
   ],
   "source": [
    "import lambda_function\n",
    "\n",
    "lambda_function.predict(\"https://www.pngall.com/wp-content/uploads/4/Cup-PNG-Image-File.png\")"
   ]
  },
  {
   "cell_type": "code",
   "execution_count": null,
   "id": "975eea86",
   "metadata": {},
   "outputs": [],
   "source": [
    "url = \"https://th.bing.com/th/id/R.9e0a4029b77e2bd21ee2509942562c08?rik=cQfCkNRBD2oAGg&riu=http%3a%2f%2fwww.pngmart.com%2ffiles%2f8%2fPlate-Transparent-PNG-1.png&ehk=KqSUojEohdyILqv8kBD0Dcgfpob0N7RAUv18GSq9cLM%3d&risl=&pid=ImgRaw&r=0\"\n",
    "url2 = \"https://www.pngall.com/wp-content/uploads/4/Cup-PNG-Image-File.png\""
   ]
  }
 ],
 "metadata": {
  "kernelspec": {
   "display_name": "Python 3 (ipykernel)",
   "language": "python",
   "name": "python3"
  },
  "language_info": {
   "codemirror_mode": {
    "name": "ipython",
    "version": 3
   },
   "file_extension": ".py",
   "mimetype": "text/x-python",
   "name": "python",
   "nbconvert_exporter": "python",
   "pygments_lexer": "ipython3",
   "version": "3.11.5"
  }
 },
 "nbformat": 4,
 "nbformat_minor": 5
}
